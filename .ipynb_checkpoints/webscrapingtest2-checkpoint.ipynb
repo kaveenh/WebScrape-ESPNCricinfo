import urllib.request, urllib.parse, urllib.error
from bs4 import BeautifulSoup
import ssl
import pandas as pd
from collections import OrderedDict
from pandas import ExcelWriter
from pandas import ExcelFile
import numpy as np
from openpyxl import load_workbook

ctx = ssl.create_default_context()
ctx.check_hostname = False
ctx.verify_mode = ssl.CERT_NONE
j=0
for i in range(1,128):
##14 pages were their
####    url="https://stats.espncricinfo.com/ci/engine/stats/index.html?class=2;filter=advanced;orderby=runs;page={pagenum};size=200;template=results;type=batting".format(pagenum=i)
##    url = "https://stats.espncricinfo.com/ci/engine/stats/index.html?class=1;filter=advanced;orderby=runs;page={pagenum};size=200;template=results;type=batting".format(pagenum=i) 
####    url = "https://stats.espncricinfo.com/ci/engine/stats/index.html?class=3;filter=advanced;orderby=runs;page={pagenum};size=200;template=results;type=batting".format(pagenum=i) 
    ##url = "https://stats.espncricinfo.com/ci/engine/stats/index.html?class=11;filter=advanced;orderby=runs;page={pagenum};size=200;template=results;type=batting".format(pagenum=i) 
    url = "https://stats.espncricinfo.com/ci/engine/stats/index.html?class=2;filter=advanced;orderby=start;orderbyad=reverse;page={pagenum};size=200;spanmax1=4+Apr+2020;spanmin1=23+Feb+2011;spanval1=span;template=results;type=batting;view=innings".format(pagenum=i)
                                                                                                                                                                                                          
    html = urllib.request.urlopen(url, context=ctx).read()

    temp_data=OrderedDict()
    list_of_dict=[]
    bs=BeautifulSoup(html, "html.parser")
    table_body=bs.find_all('tbody')
    table_body
    table_body_1 = table_body[0]
    rows = table_body_1.find_all('tr')

    for row in rows:
        cols=row.find_all('td')
        cols=[x.text.strip() for x in cols]
        temp_data=OrderedDict()
        for i in range(len(cols)):
            temp_data["Player"]=cols[0]
            temp_data["Runs"]=cols[1]
            temp_data["Mins"]=cols[2]
            temp_data["BF"]=cols[3]
            temp_data["4s"]=cols[4]
            temp_data["6s"]=cols[5]
            temp_data["SR"]=cols[6]
            temp_data["Inns"]=cols[7]
            temp_data[""]=cols[8]
            temp_data["Oposition"]=cols[9]
            temp_data["Groung"]=cols[10]
            temp_data["Date"]=cols[11]
##            temp_data["Date"] = cols[9]
##            temp_data["50"] = cols[9]
##            temp_data["0"] = cols[10]
##            temp_data["4s"] = cols[11]
##            temp_data["6s"] = cols[12]


        list_of_dict.append(temp_data)
        
    df=pd.DataFrame(list_of_dict)
    
    if(j==0):
        result=df
        j = j+1
    else:   
        frames = [result,df]
        result = pd.concat(frames)
        
##to create a new excel    
writer = ExcelWriter('researchdata/ODIBatsman.xlsx')
result.to_excel(writer,'Sheet',index = False)
writer.save()


##write to existing excel
##path = "SL last 50 ODIs.xlsx"
##book = load_workbook(path)
##writer = pd.ExcelWriter(path)
##writer.book = book

##add sheets in excel file
##result.to_excel(writer, sheet_name = 'Sheet1',index = False)
##writer.save()
##writer.close()

        


